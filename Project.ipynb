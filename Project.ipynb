{
 "cells": [
  {
   "cell_type": "markdown",
   "id": "de67d708",
   "metadata": {},
   "source": [
    "Investigating the effect of technical indicators on index prices"
   ]
  },
  {
   "cell_type": "markdown",
   "id": "5bdda7d6",
   "metadata": {},
   "source": [
    "## Welcome to my Notebook!\n",
    "In this report, I aim to investigate the effect of technical indicators on stock price. I will utilise 3 different models to analyse whether they are able to observe any patterns in the indicators."
   ]
  },
  {
   "cell_type": "code",
   "execution_count": 1,
   "id": "6eab95a5",
   "metadata": {},
   "outputs": [],
   "source": [
    "import pandas as pd\n",
    "import numpy as np\n",
    "import sklearn\n",
    "from sklearn.decomposition import PCA\n",
    "from sklearn.impute import SimpleImputer\n",
    "from sklearn.preprocessing import StandardScaler\n",
    "from sklearn.model_selection import train_test_split\n",
    "from sklearn.impute import KNNImputer\n",
    "from sklearn.linear_model import LinearRegression\n",
    "from sklearn.metrics import accuracy_score\n",
    "from sklearn.linear_model import Ridge, Lasso\n",
    "from sklearn.preprocessing import PolynomialFeatures\n",
    "import talib # Technical Analysis Library\n",
    "from talib.abstract import *\n",
    "from tensorflow.keras.models import Sequential\n",
    "from tensorflow.keras.layers import Dense, LSTM, Embedding, Dropout, Flatten, GRU # LSTM is a type of RNN\n",
    "from tensorflow.keras.preprocessing import sequence\n",
    "from sklearn.model_selection import GridSearchCV\n",
    "import matplotlib.pyplot as plt\n",
    "from scikeras.wrappers import KerasClassifier\n",
    "from tensorflow.random import set_seed\n",
    "import seaborn as sns\n",
    "from yellowbrick.regressor import ResidualsPlot, CooksDistance, cooks_distance\n",
    "from sklearn.model_selection import RepeatedKFold, cross_val_score\n",
    "from tensorflow.keras.models import * \n",
    "from tensorflow.keras.layers import * \n",
    "from tensorflow.keras.wrappers.scikit_learn import KerasRegressor\n",
    "from sklearn.model_selection import StratifiedKFold\n",
    "from sklearn.model_selection import cross_val_score\n",
    "import tensorflow as tf\n",
    "import keras\n",
    "\n",
    "pd.options.mode.chained_assignment = None\n",
    "\n"
   ]
  },
  {
   "cell_type": "code",
   "execution_count": 3,
   "id": "d9e75e1b",
   "metadata": {},
   "outputs": [],
   "source": [
    "#TEST THIS\n",
    "seed = 42\n",
    "np.random.seed(seed)"
   ]
  },
  {
   "cell_type": "markdown",
   "id": "e54cac05",
   "metadata": {},
   "source": [
    "First we load in the data and adjust column names to something more usable"
   ]
  },
  {
   "cell_type": "code",
   "execution_count": 2,
   "id": "f8e8e50e",
   "metadata": {},
   "outputs": [],
   "source": [
    "data = pd.read_csv(\".\\\\att.csv\")\n",
    "data = data[[\"TICKER\",\"PRC\",\"VOL\",\"OPENPRC\",\"ASKHI\",\"BIDLO\",\"DATE\"]]\n",
    "\n",
    "data.columns = [\"Symbol\", \"CloseUSD\",\"Volume\",\"open\",\"high\",\"low\",\"date\"]\n",
    "\n",
    "att = data.drop([\"Symbol\"],axis = 1)\n",
    "\n",
    "att[\"date\"] = pd.to_datetime(att[\"date\"],format = \"%Y%m%d\")"
   ]
  },
  {
   "cell_type": "markdown",
   "id": "be252522",
   "metadata": {},
   "source": [
    "Here are some functions to add the technical indicators we are investigating"
   ]
  },
  {
   "cell_type": "code",
   "execution_count": 3,
   "id": "94cf3e22",
   "metadata": {},
   "outputs": [],
   "source": [
    "def addindicators(data):\n",
    "    df = data.copy()\n",
    "    df['logret'] = np.log(df.CloseUSD.pct_change()+1)    \n",
    "    data[\"1d\"] = (np.exp(df[\"logret\"])-1).shift(-1)\n",
    "        \n",
    "    data[\"OBV\"] = talib.OBV(data[\"CloseUSD\"], data[\"Volume\"])\n",
    "    data[\"SMA12\"] = SMA(data[\"CloseUSD\"], timeperiod=12)\n",
    "    data[\"SMA25\"] = SMA(data[\"CloseUSD\"], timeperiod=25)\n",
    "    data[\"SMA100\"] = SMA(data[\"CloseUSD\"], timeperiod=100)\n",
    "    data[\"RSI\"] = RSI(data[\"CloseUSD\"], timeperiod=14)\n",
    "    data[\"MACD\"] = MACD(data[\"CloseUSD\"], fastperiod=12, slowperiod=26, signalperiod=9)[0]\n",
    "    data[\"aroon\"] = AROONOSC(data[\"high\"], data[\"low\"], timeperiod=14)\n",
    "    data[\"adx\"] = ADX(data[\"high\"], data[\"low\"],data[\"CloseUSD\"], timeperiod=14)\n",
    "    \n",
    "    return data"
   ]
  },
  {
   "cell_type": "code",
   "execution_count": 4,
   "id": "510f7d76",
   "metadata": {},
   "outputs": [],
   "source": [
    "df = addindicators(att)\n",
    "\n",
    "df.at[len(df)-1,\"1d\"] = 0\n",
    "\n",
    "df = df.drop([\"date\"],axis = 1)"
   ]
  },
  {
   "cell_type": "markdown",
   "id": "4fdb34c1",
   "metadata": {},
   "source": [
    "We can inspect the data to identify any interesting patterns. Note the large difference in scale of the Volume and OBV indicators"
   ]
  },
  {
   "cell_type": "code",
   "execution_count": 40,
   "id": "09c1610e",
   "metadata": {},
   "outputs": [
    {
     "data": {
      "text/html": [
       "<div>\n",
       "<style scoped>\n",
       "    .dataframe tbody tr th:only-of-type {\n",
       "        vertical-align: middle;\n",
       "    }\n",
       "\n",
       "    .dataframe tbody tr th {\n",
       "        vertical-align: top;\n",
       "    }\n",
       "\n",
       "    .dataframe thead th {\n",
       "        text-align: right;\n",
       "    }\n",
       "</style>\n",
       "<table border=\"1\" class=\"dataframe\">\n",
       "  <thead>\n",
       "    <tr style=\"text-align: right;\">\n",
       "      <th></th>\n",
       "      <th>CloseUSD</th>\n",
       "      <th>Volume</th>\n",
       "      <th>open</th>\n",
       "      <th>high</th>\n",
       "      <th>low</th>\n",
       "      <th>1d</th>\n",
       "      <th>OBV</th>\n",
       "      <th>SMA12</th>\n",
       "      <th>SMA25</th>\n",
       "      <th>SMA100</th>\n",
       "      <th>RSI</th>\n",
       "      <th>MACD</th>\n",
       "      <th>aroon</th>\n",
       "      <th>adx</th>\n",
       "    </tr>\n",
       "  </thead>\n",
       "  <tbody>\n",
       "    <tr>\n",
       "      <th>count</th>\n",
       "      <td>5287.000000</td>\n",
       "      <td>5.287000e+03</td>\n",
       "      <td>5287.000000</td>\n",
       "      <td>5287.000000</td>\n",
       "      <td>5287.000000</td>\n",
       "      <td>5287.000000</td>\n",
       "      <td>5.287000e+03</td>\n",
       "      <td>5276.000000</td>\n",
       "      <td>5263.000000</td>\n",
       "      <td>5188.000000</td>\n",
       "      <td>5273.000000</td>\n",
       "      <td>5254.000000</td>\n",
       "      <td>5273.000000</td>\n",
       "      <td>5260.000000</td>\n",
       "    </tr>\n",
       "    <tr>\n",
       "      <th>mean</th>\n",
       "      <td>32.833213</td>\n",
       "      <td>2.237986e+07</td>\n",
       "      <td>32.838165</td>\n",
       "      <td>33.160242</td>\n",
       "      <td>32.497976</td>\n",
       "      <td>0.000043</td>\n",
       "      <td>1.936921e+08</td>\n",
       "      <td>32.825469</td>\n",
       "      <td>32.818066</td>\n",
       "      <td>32.783519</td>\n",
       "      <td>50.650859</td>\n",
       "      <td>-0.017356</td>\n",
       "      <td>2.194468</td>\n",
       "      <td>22.759249</td>\n",
       "    </tr>\n",
       "    <tr>\n",
       "      <th>std</th>\n",
       "      <td>6.608318</td>\n",
       "      <td>1.449685e+07</td>\n",
       "      <td>6.596906</td>\n",
       "      <td>6.680649</td>\n",
       "      <td>6.521158</td>\n",
       "      <td>0.016543</td>\n",
       "      <td>6.555457e+08</td>\n",
       "      <td>6.561701</td>\n",
       "      <td>6.524334</td>\n",
       "      <td>6.335913</td>\n",
       "      <td>11.278634</td>\n",
       "      <td>0.514136</td>\n",
       "      <td>63.215822</td>\n",
       "      <td>8.373954</td>\n",
       "    </tr>\n",
       "    <tr>\n",
       "      <th>min</th>\n",
       "      <td>19.340000</td>\n",
       "      <td>1.749000e+06</td>\n",
       "      <td>19.220000</td>\n",
       "      <td>19.500000</td>\n",
       "      <td>18.850000</td>\n",
       "      <td>-0.126612</td>\n",
       "      <td>-1.514167e+09</td>\n",
       "      <td>20.345000</td>\n",
       "      <td>20.777600</td>\n",
       "      <td>22.891300</td>\n",
       "      <td>19.416812</td>\n",
       "      <td>-2.394957</td>\n",
       "      <td>-100.000000</td>\n",
       "      <td>6.175807</td>\n",
       "    </tr>\n",
       "    <tr>\n",
       "      <th>25%</th>\n",
       "      <td>27.025000</td>\n",
       "      <td>1.128485e+07</td>\n",
       "      <td>27.025000</td>\n",
       "      <td>27.370000</td>\n",
       "      <td>26.700000</td>\n",
       "      <td>-0.007325</td>\n",
       "      <td>-2.177144e+08</td>\n",
       "      <td>26.965833</td>\n",
       "      <td>26.947000</td>\n",
       "      <td>26.488450</td>\n",
       "      <td>42.778052</td>\n",
       "      <td>-0.272149</td>\n",
       "      <td>-57.142857</td>\n",
       "      <td>16.296567</td>\n",
       "    </tr>\n",
       "    <tr>\n",
       "      <th>50%</th>\n",
       "      <td>32.980000</td>\n",
       "      <td>2.098930e+07</td>\n",
       "      <td>32.970000</td>\n",
       "      <td>33.260000</td>\n",
       "      <td>32.690000</td>\n",
       "      <td>0.000306</td>\n",
       "      <td>1.718559e+07</td>\n",
       "      <td>33.022917</td>\n",
       "      <td>33.145600</td>\n",
       "      <td>33.532600</td>\n",
       "      <td>50.376530</td>\n",
       "      <td>0.007614</td>\n",
       "      <td>-7.142857</td>\n",
       "      <td>21.540225</td>\n",
       "    </tr>\n",
       "    <tr>\n",
       "      <th>75%</th>\n",
       "      <td>37.475000</td>\n",
       "      <td>2.870865e+07</td>\n",
       "      <td>37.490000</td>\n",
       "      <td>37.830000</td>\n",
       "      <td>37.180000</td>\n",
       "      <td>0.007511</td>\n",
       "      <td>6.366399e+08</td>\n",
       "      <td>37.473542</td>\n",
       "      <td>37.474600</td>\n",
       "      <td>36.718450</td>\n",
       "      <td>58.669599</td>\n",
       "      <td>0.291528</td>\n",
       "      <td>64.285714</td>\n",
       "      <td>27.918211</td>\n",
       "    </tr>\n",
       "    <tr>\n",
       "      <th>max</th>\n",
       "      <td>58.500000</td>\n",
       "      <td>1.950827e+08</td>\n",
       "      <td>58.125000</td>\n",
       "      <td>59.000000</td>\n",
       "      <td>57.312500</td>\n",
       "      <td>0.162801</td>\n",
       "      <td>2.154360e+09</td>\n",
       "      <td>57.359375</td>\n",
       "      <td>56.750000</td>\n",
       "      <td>51.833275</td>\n",
       "      <td>85.998587</td>\n",
       "      <td>2.372000</td>\n",
       "      <td>100.000000</td>\n",
       "      <td>56.654668</td>\n",
       "    </tr>\n",
       "  </tbody>\n",
       "</table>\n",
       "</div>"
      ],
      "text/plain": [
       "          CloseUSD        Volume         open         high          low  \\\n",
       "count  5287.000000  5.287000e+03  5287.000000  5287.000000  5287.000000   \n",
       "mean     32.833213  2.237986e+07    32.838165    33.160242    32.497976   \n",
       "std       6.608318  1.449685e+07     6.596906     6.680649     6.521158   \n",
       "min      19.340000  1.749000e+06    19.220000    19.500000    18.850000   \n",
       "25%      27.025000  1.128485e+07    27.025000    27.370000    26.700000   \n",
       "50%      32.980000  2.098930e+07    32.970000    33.260000    32.690000   \n",
       "75%      37.475000  2.870865e+07    37.490000    37.830000    37.180000   \n",
       "max      58.500000  1.950827e+08    58.125000    59.000000    57.312500   \n",
       "\n",
       "                1d           OBV        SMA12        SMA25       SMA100  \\\n",
       "count  5287.000000  5.287000e+03  5276.000000  5263.000000  5188.000000   \n",
       "mean      0.000043  1.936921e+08    32.825469    32.818066    32.783519   \n",
       "std       0.016543  6.555457e+08     6.561701     6.524334     6.335913   \n",
       "min      -0.126612 -1.514167e+09    20.345000    20.777600    22.891300   \n",
       "25%      -0.007325 -2.177144e+08    26.965833    26.947000    26.488450   \n",
       "50%       0.000306  1.718559e+07    33.022917    33.145600    33.532600   \n",
       "75%       0.007511  6.366399e+08    37.473542    37.474600    36.718450   \n",
       "max       0.162801  2.154360e+09    57.359375    56.750000    51.833275   \n",
       "\n",
       "               RSI         MACD        aroon          adx  \n",
       "count  5273.000000  5254.000000  5273.000000  5260.000000  \n",
       "mean     50.650859    -0.017356     2.194468    22.759249  \n",
       "std      11.278634     0.514136    63.215822     8.373954  \n",
       "min      19.416812    -2.394957  -100.000000     6.175807  \n",
       "25%      42.778052    -0.272149   -57.142857    16.296567  \n",
       "50%      50.376530     0.007614    -7.142857    21.540225  \n",
       "75%      58.669599     0.291528    64.285714    27.918211  \n",
       "max      85.998587     2.372000   100.000000    56.654668  "
      ]
     },
     "execution_count": 40,
     "metadata": {},
     "output_type": "execute_result"
    }
   ],
   "source": [
    "df.describe()"
   ]
  },
  {
   "cell_type": "markdown",
   "id": "ce9a3b6e",
   "metadata": {},
   "source": [
    "We notice that the indicators contain several NaN values caused by the indicators requiring historical data that isnt available for the first few rows. \n",
    "\n",
    "For example, the simple moving average (SMA) utilises the past N days of data to find an average price, hence SMA100 has 99 rows of NaN."
   ]
  },
  {
   "cell_type": "code",
   "execution_count": 41,
   "id": "d8f35f6c",
   "metadata": {},
   "outputs": [
    {
     "data": {
      "text/plain": [
       "CloseUSD     0\n",
       "Volume       0\n",
       "open         0\n",
       "high         0\n",
       "low          0\n",
       "1d           0\n",
       "OBV          0\n",
       "SMA12       11\n",
       "SMA25       24\n",
       "SMA100      99\n",
       "RSI         14\n",
       "MACD        33\n",
       "aroon       14\n",
       "adx         27\n",
       "dtype: int64"
      ]
     },
     "execution_count": 41,
     "metadata": {},
     "output_type": "execute_result"
    }
   ],
   "source": [
    "df.isnull().sum()"
   ]
  },
  {
   "cell_type": "markdown",
   "id": "6738c036",
   "metadata": {},
   "source": [
    "We can now prepare the data for binary classification. Y's are converted into 0 or 1 depending if the daily change is negative or positive. \n",
    "\n",
    "The X's go under KNN imputation to fill the empty value. I chose to use KNN imputation because the patterns between the indicators will provide strong estimates as to what the estimated value should be.\n",
    "\n",
    "The values are then scaled to normal(0,1) values.\n",
    "\n",
    "Finally, I conduct PCA to reduce the dimensionality of the dataset. We can observe from the plot in the report that choosing the first 2 componenets is optimal using the elbow method."
   ]
  },
  {
   "cell_type": "code",
   "execution_count": 11,
   "id": "740d66b4",
   "metadata": {},
   "outputs": [],
   "source": [
    "Y = df[\"1d\"].apply(lambda x: 1 if (x>0) else 0)\n",
    "X = df.drop([\"1d\"],axis = 1)\n",
    "\n",
    "imputer = KNNImputer(n_neighbors=10)\n",
    "X = imputer.fit_transform(X)\n",
    "\n",
    "scaler = StandardScaler()\n",
    "X = scaler.fit_transform(X)\n",
    "\n",
    "pca = PCA(n_components=2)\n",
    "X = pca.fit_transform(X)"
   ]
  },
  {
   "cell_type": "markdown",
   "id": "786d3cdc",
   "metadata": {},
   "source": [
    "Here I append 5 days worth of data into each row to allow the model acces to the previous 5 days worth of data."
   ]
  },
  {
   "cell_type": "code",
   "execution_count": 12,
   "id": "d6cfeb8e",
   "metadata": {},
   "outputs": [],
   "source": [
    "#append previous 5 days worth of data in aswell\n",
    "x = np.empty([len(X),10,])\n",
    "for i in range(5, len(X)):\n",
    "    x[i] = X[i-5:i].flatten()\n",
    "\n",
    "x = np.delete(x, np.s_[0:5], axis=0)\n",
    "#delete first 5 rows of y\n",
    "y = Y.tail(-5)\n",
    "y.reset_index(drop=True, inplace=True)\n"
   ]
  },
  {
   "cell_type": "markdown",
   "id": "38fd29be",
   "metadata": {},
   "source": [
    "I chose to use the split 80:10:10 as I wanted to prioritise the amount of training data as this is a complex problem."
   ]
  },
  {
   "cell_type": "code",
   "execution_count": 39,
   "id": "0bd1fd71",
   "metadata": {},
   "outputs": [],
   "source": [
    "X_train, X_test, y_train, y_test = train_test_split(x, y, test_size=0.2, random_state=42)\n",
    "X_test, X_val, y_test, y_val = train_test_split(X_test, y_test, test_size=0.5, random_state=42)"
   ]
  },
  {
   "cell_type": "markdown",
   "id": "a536b445",
   "metadata": {},
   "source": [
    "This is the MLP model. I am connecting 4 dense layers together using a RELU activation function that concludes with a final 1 neuron output layer using a sigmoid function. Read more about my choices in the report."
   ]
  },
  {
   "cell_type": "code",
   "execution_count": 10,
   "id": "01eb98aa",
   "metadata": {},
   "outputs": [],
   "source": [
    "model = Sequential(name = \"MLP\")\n",
    "\n",
    "model.add(Dense(64, input_shape= (X_train.shape[1],), activation='relu', name= \"1st_hidden\"))\n",
    "\n",
    "model.add(Dense(64, activation='relu', name= \"2nd_hidden\"))\n",
    "\n",
    "model.add(Dense(64, activation='relu', name= \"3rd_hidden\"))\n",
    "\n",
    "model.add(Dense(1, name = 'Output_layer', activation='sigmoid'))\n",
    "\n",
    "model.compile(loss=\"binary_crossentropy\", optimizer=\"adam\", metrics = [\"accuracy\",\"binary_accuracy\"])\n"
   ]
  },
  {
   "cell_type": "markdown",
   "id": "0143d16b",
   "metadata": {},
   "source": [
    "This CNN model utilises several Conv1D layers (as this is 1d data) with varying dilation rates. I applied padding to all the layers as I didnt want it wrapping around and looking at future data. The dimensionality of the data must be increased to 3D as done below."
   ]
  },
  {
   "cell_type": "code",
   "execution_count": 40,
   "id": "3e1220ae",
   "metadata": {},
   "outputs": [],
   "source": [
    "X_train = np.expand_dims(X_train, axis=1)\n",
    "X_test = np.expand_dims(X_test, axis=1)\n",
    "X_val = np.expand_dims(X_val, axis=1)"
   ]
  },
  {
   "cell_type": "code",
   "execution_count": 64,
   "id": "ad317725",
   "metadata": {},
   "outputs": [],
   "source": [
    "model = Sequential(name = \"CNN\")\n",
    "\n",
    "model.add(Conv1D(64, kernel_size = 3, padding = \"same\", activation='relu', input_shape=(np.shape(X_train)[1],np.shape(X_train)[2]), name= \"1st_conv\"))\n",
    "\n",
    "for i in [1,2,4]:\n",
    "    model.add(Conv1D(64, kernel_size = 3, padding = \"same\", dilation_rate = i, activation='relu', name= \"conv_dilation_\"+str(i)))\n",
    "\n",
    "model.add(Dense(1, name = 'Output_layer', activation='sigmoid'))\n",
    "\n",
    "model.compile(loss=\"binary_crossentropy\", optimizer=\"adam\", metrics = [\"accuracy\",\"binary_accuracy\"])"
   ]
  },
  {
   "cell_type": "markdown",
   "id": "50227244",
   "metadata": {},
   "source": [
    "Reshape the X data to utilise LSTM long term memory"
   ]
  },
  {
   "cell_type": "code",
   "execution_count": 17,
   "id": "aa1e33f7",
   "metadata": {},
   "outputs": [],
   "source": [
    "X_train = X_train.reshape(len(X_train),5,2)\n",
    "X_test = X_test.reshape(len(X_test),5,2)\n",
    "X_val = X_val.reshape(len(X_val),5,2)"
   ]
  },
  {
   "cell_type": "markdown",
   "id": "c64e100b",
   "metadata": {},
   "source": [
    "This RNN model uses several LSTM and GRU layers followed by dropouts to maintain generalisability. "
   ]
  },
  {
   "cell_type": "code",
   "execution_count": 18,
   "id": "2a043606",
   "metadata": {},
   "outputs": [],
   "source": [
    "model= Sequential(name = \"RNN\")\n",
    "\n",
    "model.add(LSTM(units=100,return_sequences=True, input_shape=(X_train.shape[1],X_train.shape[2])))\n",
    "model.add(Dropout(rate=0.2))\n",
    "\n",
    "model.add(GRU(units=100,return_sequences=True))\n",
    "model.add(Dropout(rate=0.2))\n",
    "\n",
    "model.add(LSTM(units=100,return_sequences=True))\n",
    "model.add(Dropout(rate=0.2))\n",
    "\n",
    "model.add(GRU(units=100,return_sequences=True))\n",
    "model.add(Dropout(rate=0.2))\n",
    "\n",
    "model.add(LSTM(units=100,return_sequences=True))\n",
    "model.add(Dropout(rate=0.2))\n",
    "\n",
    "model.add(GRU(units=100,return_sequences=True))\n",
    "model.add(Dropout(rate=0.2))\n",
    "\n",
    "model.add(Flatten())\n",
    "model.add(Dense(1, activation='tanh'))\n",
    "\n",
    "model.compile(loss='mean_squared_error', optimizer='adam', metrics=[\"accuracy\",\"binary_accuracy\"])"
   ]
  },
  {
   "cell_type": "markdown",
   "id": "18509d4c",
   "metadata": {},
   "source": [
    "Here are the tools to summarise, fit and evaluate the models"
   ]
  },
  {
   "cell_type": "code",
   "execution_count": 50,
   "id": "587a7ec8",
   "metadata": {
    "scrolled": false
   },
   "outputs": [
    {
     "name": "stdout",
     "output_type": "stream",
     "text": [
      "Model: \"CNN\"\n",
      "_________________________________________________________________\n",
      " Layer (type)                Output Shape              Param #   \n",
      "=================================================================\n",
      " 1st_conv (Conv1D)           (None, 1, 64)             1984      \n",
      "                                                                 \n",
      " conv_dilation_1 (Conv1D)    (None, 1, 64)             12352     \n",
      "                                                                 \n",
      " conv_dilation_2 (Conv1D)    (None, 1, 64)             12352     \n",
      "                                                                 \n",
      " conv_dilation_4 (Conv1D)    (None, 1, 64)             12352     \n",
      "                                                                 \n",
      " conv_dilation_8 (Conv1D)    (None, 1, 64)             12352     \n",
      "                                                                 \n",
      " 1st_hidden (Dense)          (None, 1, 64)             4160      \n",
      "                                                                 \n",
      " Output_layer (Dense)        (None, 1, 1)              65        \n",
      "                                                                 \n",
      "=================================================================\n",
      "Total params: 55,617\n",
      "Trainable params: 55,617\n",
      "Non-trainable params: 0\n",
      "_________________________________________________________________\n"
     ]
    }
   ],
   "source": [
    "model.build(X_train.shape)\n",
    "model.summary()"
   ]
  },
  {
   "cell_type": "code",
   "execution_count": 55,
   "id": "95b2b2fd",
   "metadata": {
    "scrolled": false
   },
   "outputs": [
    {
     "data": {
      "text/plain": [
       "[0.6930485367774963, 0.5094696879386902, 0.5094696879386902]"
      ]
     },
     "execution_count": 55,
     "metadata": {},
     "output_type": "execute_result"
    }
   ],
   "source": [
    "#evaluate accuracy\n",
    "model.evaluate(X_test, y_test, verbose = 0)"
   ]
  },
  {
   "cell_type": "markdown",
   "id": "fe1adea6",
   "metadata": {},
   "source": [
    "These graphs demonstrate the Loss and Accuracy of the models over their epochs"
   ]
  },
  {
   "cell_type": "code",
   "execution_count": 65,
   "id": "a35e651f",
   "metadata": {},
   "outputs": [],
   "source": [
    "history = model.fit(X_train, y_train, validation_data=(X_val, y_val), epochs=50, batch_size=64, verbose = 0)"
   ]
  },
  {
   "cell_type": "code",
   "execution_count": null,
   "id": "401a46b4",
   "metadata": {},
   "outputs": [
    {
     "data": {
      "image/png": "[encoded data removed]",
      "text/plain": [
       "<Figure size 800x550 with 1 Axes>"
      ]
     },
     "metadata": {},
     "output_type": "display_data"
    }
   ],
   "source": [
    "#plots\n",
    "plt.plot(history.history['accuracy'])\n",
    "plt.plot(history.history['val_accuracy'])\n",
    "plt.title('model accuracy')\n",
    "plt.ylabel('accuracy')\n",
    "plt.xlabel('epoch')\n",
    "plt.legend(['train', 'test'], loc='upper left')\n",
    "plt.show()"
   ]
  },
  {
   "cell_type": "code",
   "execution_count": null,
   "id": "c9172037",
   "metadata": {},
   "outputs": [
    {
     "data": {
      "image/png": "[encoded data removed]",
      "text/plain": [
       "<Figure size 800x550 with 1 Axes>"
      ]
     },
     "metadata": {},
     "output_type": "display_data"
    }
   ],
   "source": [
    "plt.plot(history.history['loss'])\n",
    "plt.plot(history.history['val_loss'])\n",
    "plt.title('model loss')\n",
    "plt.ylabel('loss')\n",
    "plt.xlabel('epoch')\n",
    "plt.legend(['train', 'test'], loc='upper left')\n",
    "plt.show()"
   ]
  },
  {
   "cell_type": "markdown",
   "id": "4f3b0da7",
   "metadata": {},
   "source": [
    "In this section we conduct grid searching on the models to identify the optimal set of hyperparameters. Be warned this takes a lot of computational power.\n",
    "\n",
    "The following section is arranged as follows:\n",
    "\n",
    "A function defining a model with arguments of the hyperparameters. The cell below it contains the code to run the appropriate gridsearch. \n",
    "\n",
    "Underneath the 3 gridsearches, there is a function called get_params, use this to discover what parameters can be adjusted\n",
    "\n",
    "Underneath this are summary tools to identify the results of the gridsearches."
   ]
  },
  {
   "cell_type": "code",
   "execution_count": 9,
   "id": "b750981e",
   "metadata": {},
   "outputs": [],
   "source": [
    "def create_model_MLP(act1,act2,act3,opt,neurons):\n",
    "    model = Sequential()\n",
    "    model.add(Dense(neurons, input_shape= (X_train.shape[1],), activation=act1))\n",
    "    model.add(Dense(neurons, activation=act2))\n",
    "    model.add(Dense(neurons, activation=act3))\n",
    "    model.add(Dense(1, activation='sigmoid'))\n",
    "    # model.compile(loss=\"binary_crossentropy\", optimizer=\"adam\", metrics = [\"accuracy\",\"binary_accuracy\"])\n",
    "    model.compile(loss=\"binary_crossentropy\", optimizer = opt, metrics = [\"accuracy\",\"binary_accuracy\"])\n",
    "    \n",
    "    return model\n"
   ]
  },
  {
   "cell_type": "code",
   "execution_count": 10,
   "id": "0e3d8299",
   "metadata": {},
   "outputs": [
    {
     "name": "stderr",
     "output_type": "stream",
     "text": [
      "c:\\Users\\lucia\\.conda\\envs\\data-science\\lib\\site-packages\\joblib\\externals\\loky\\process_executor.py:702: UserWarning: A worker stopped while some jobs were given to the executor. This can be caused by a too short worker timeout or by a memory leak.\n",
      "  warnings.warn(\n"
     ]
    }
   ],
   "source": [
    "set_seed(42)\n",
    "\n",
    "model = KerasClassifier(model=create_model_MLP, verbose=0)\n",
    "\n",
    "batch_size = [32,64]\n",
    "epochs = [50, 100]\n",
    "optimizer = [\"adam\",\"RMSprop\"]\n",
    "activation = ['relu', 'tanh', 'sigmoid']\n",
    "neurons = [40,80]\n",
    "\n",
    "\n",
    "param_grid = dict(batch_size=batch_size, epochs=epochs, model__opt=optimizer, model__act1=activation, model__act2=activation, model__act3=activation, model__neurons=neurons)\n",
    "\n",
    "grid = GridSearchCV(estimator=model, param_grid=param_grid, n_jobs=-1, cv=3)\n",
    "grid_result = grid.fit(X_train, y_train)"
   ]
  },
  {
   "cell_type": "code",
   "execution_count": 67,
   "id": "448ee8ab",
   "metadata": {},
   "outputs": [],
   "source": [
    "def create_model_CNN(filters,ksize,act1,act2,opt):\n",
    "    model = Sequential()\n",
    "    model.add(Conv1D(filters, kernel_size = ksize, padding = \"same\", activation=act1, input_shape=(np.shape(X_train)[1],np.shape(X_train)[2])))\n",
    "    for i in [1,2,4]:\n",
    "        model.add(Conv1D(filters, kernel_size = ksize, padding = \"same\", dilation_rate = i, activation=act2))\n",
    "\n",
    "    model.add(Dense(1, activation='sigmoid'))\n",
    "    model.compile(loss=\"binary_crossentropy\", optimizer=opt, metrics = [\"accuracy\",\"binary_accuracy\"])\n",
    "\n",
    "    return model"
   ]
  },
  {
   "cell_type": "code",
   "execution_count": 69,
   "id": "d43b2cbb",
   "metadata": {},
   "outputs": [],
   "source": [
    "set_seed(42)\n",
    "\n",
    "model = KerasClassifier(model=create_model_CNN, verbose=2)\n",
    "\n",
    "batch_size = [32,64]\n",
    "epochs = [50, 100]\n",
    "optimizer = [\"adam\",\"RMSprop\"]\n",
    "activation = ['relu', 'tanh', 'sigmoid']\n",
    "ksize = [3,10]\n",
    "filters = [10,40]\n",
    "\n",
    "\n",
    "param_grid = dict(batch_size=batch_size, epochs=epochs, model__opt=optimizer, model__act1=activation, model__act2=activation, model__filters=filters, model__ksize=ksize)\n",
    "\n",
    "grid = GridSearchCV(estimator=model, param_grid=param_grid, n_jobs=-1, cv=3)\n",
    "grid_result = grid.fit(X_train, y_train)"
   ]
  },
  {
   "cell_type": "code",
   "execution_count": null,
   "id": "3e4ae723",
   "metadata": {},
   "outputs": [],
   "source": [
    "def create_model_RNN(opt,rate,units):\n",
    "    model= Sequential()\n",
    "    model.add(LSTM(units=units,return_sequences=True, input_shape=(X_train.shape[1],X_train.shape[2])))\n",
    "    model.add(Dropout(rate=rate))\n",
    "    model.add(GRU(units=units,return_sequences=True))\n",
    "    model.add(Dropout(rate=rate))\n",
    "    model.add(LSTM(units=units,return_sequences=True))\n",
    "    model.add(Dropout(rate=rate))\n",
    "    model.add(GRU(units=units,return_sequences=True))\n",
    "    model.add(Dropout(rate=rate))\n",
    "    model.add(LSTM(units=units,return_sequences=True))\n",
    "    model.add(Dropout(rate=rate))\n",
    "    model.add(GRU(units=units,return_sequences=True))\n",
    "    model.add(Dropout(rate=rate))\n",
    "    model.add(Flatten())\n",
    "    model.add(Dense(1, activation='sigmoid'))\n",
    "    model.compile(loss='mean_squared_error', optimizer=opt, metrics=[\"accuracy\",\"binary_accuracy\"])\n",
    "    \n",
    "    return model"
   ]
  },
  {
   "cell_type": "code",
   "execution_count": null,
   "id": "2576c027",
   "metadata": {},
   "outputs": [],
   "source": [
    "set_seed(42)\n",
    "\n",
    "model = KerasClassifier(model=create_model_RNN(), verbose=0)\n",
    "\n",
    "batch_size = [32,64]\n",
    "epochs = [50, 100]\n",
    "optimizer = [\"adam\",\"RMSprop\"]\n",
    "activation = ['relu', 'tanh', 'sigmoid']\n",
    "dropout_rate = [0.1,0.4]\n",
    "units = [20,80]\n",
    "\n",
    "\n",
    "\n",
    "param_grid = dict(batch_size=batch_size, epochs=epochs, model__opt=optimizer, model__rate = dropout_rate, model__units = units)\n",
    "\n",
    "grid = GridSearchCV(estimator=model, param_grid=param_grid, n_jobs=-1, cv=3)\n",
    "grid_result = grid.fit(X_train, y_train)"
   ]
  },
  {
   "cell_type": "code",
   "execution_count": 23,
   "id": "cef9999e",
   "metadata": {},
   "outputs": [
    {
     "name": "stdout",
     "output_type": "stream",
     "text": [
      "Highest accuracy: 0.5197645479815902\n",
      "Best Parameters: {'batch_size': 64, 'epochs': 50, 'model__act1': 'relu', 'model__act2': 'relu', 'model__act3': 'tanh', 'model__neurons': 40, 'model__opt': 'adam'}\n"
     ]
    }
   ],
   "source": [
    "print(f\"Highest accuracy: {grid_result.best_score_}\")\n",
    "print(f\"Best Parameters: {grid_result.best_params_}\")"
   ]
  },
  {
   "cell_type": "markdown",
   "id": "96d02cc8",
   "metadata": {},
   "source": [
    "Finally, we conduct cross validation to truly understand the performance of our optimized models\n",
    "\n",
    "We will have to rerun the new optimized pre-processing steps"
   ]
  },
  {
   "cell_type": "code",
   "execution_count": null,
   "id": "d46d83a9",
   "metadata": {},
   "outputs": [],
   "source": [
    "def addindicators(data):\n",
    "    df = data.copy()\n",
    "    df['logret'] = np.log(df.CloseUSD.pct_change()+1)    \n",
    "    data[\"1d\"] = (np.exp(df[\"logret\"])-1).shift(-1)\n",
    "        \n",
    "    data[\"OBV\"] = talib.OBV(data[\"CloseUSD\"], data[\"Volume\"])\n",
    "    data[\"SMA12\"] = SMA(data[\"CloseUSD\"], timeperiod=12)\n",
    "    data[\"SMA25\"] = SMA(data[\"CloseUSD\"], timeperiod=25)\n",
    "    data[\"RSI\"] = RSI(data[\"CloseUSD\"], timeperiod=14)\n",
    "    data[\"MACD\"] = MACD(data[\"CloseUSD\"], fastperiod=12, slowperiod=26, signalperiod=9)[0]\n",
    "    \n",
    "    return data"
   ]
  },
  {
   "cell_type": "code",
   "execution_count": null,
   "id": "af64bca3",
   "metadata": {},
   "outputs": [],
   "source": [
    "df = addindicators(att)\n",
    "\n",
    "df.at[len(df)-1,\"1d\"] = 0\n",
    "\n",
    "df = df.drop([\"date\"],axis = 1)"
   ]
  },
  {
   "cell_type": "code",
   "execution_count": null,
   "id": "ce7b6900",
   "metadata": {},
   "outputs": [],
   "source": [
    "Y = df[\"1d\"].apply(lambda x: 1 if (x>0) else 0)\n",
    "X = df.drop([\"1d\"],axis = 1)\n",
    "\n",
    "imputer = KNNImputer(n_neighbors=10)\n",
    "X = imputer.fit_transform(X)\n",
    "\n",
    "scaler = StandardScaler()\n",
    "X = scaler.fit_transform(X)\n",
    "\n",
    "pca = PCA(n_components=2)\n",
    "X = pca.fit_transform(X)"
   ]
  },
  {
   "cell_type": "code",
   "execution_count": null,
   "id": "9ce6355c",
   "metadata": {},
   "outputs": [],
   "source": [
    "#append previous 5 days worth of data in aswell\n",
    "x = np.empty([len(X),10,])\n",
    "for i in range(5, len(X)):\n",
    "    x[i] = X[i-5:i].flatten()\n",
    "\n",
    "x = np.delete(x, np.s_[0:5], axis=0)\n",
    "#delete first 5 rows of y\n",
    "y = Y.tail(-5)\n",
    "y.reset_index(drop=True, inplace=True)\n"
   ]
  },
  {
   "cell_type": "code",
   "execution_count": null,
   "id": "41dec5b3",
   "metadata": {},
   "outputs": [],
   "source": [
    "def create_model_MLP():\n",
    "    model = Sequential()\n",
    "    model.add(Dense(40, input_shape= (x.shape[1],), activation=\"relu\"))\n",
    "    model.add(Dense(40, activation=\"relu\"))\n",
    "    model.add(Dense(40, activation=\"tanh\"))\n",
    "    model.add(Dense(1, activation='sigmoid'))\n",
    "\n",
    "    model.compile(loss=\"binary_crossentropy\", optimizer = \"adam\", metrics = [\"accuracy\",\"binary_accuracy\"])\n",
    "    \n",
    "    return model\n",
    "\n",
    "model = KerasClassifier(model=create_model_MLP, epochs=50, batch_size=64, verbose=0)"
   ]
  },
  {
   "cell_type": "code",
   "execution_count": null,
   "id": "694c1a2c",
   "metadata": {},
   "outputs": [],
   "source": [
    "def create_model_CNN():\n",
    "    model = Sequential()\n",
    "    model.add(Conv1D(filters, kernel_size = ksize, padding = \"same\", activation=act1, input_shape=(np.shape(x)[1],np.shape(x)[2])))\n",
    "    for i in [1,2,4]:\n",
    "        model.add(Conv1D(filters, kernel_size = ksize, padding = \"same\", dilation_rate = i, activation=act2))\n",
    "\n",
    "    model.add(Dense(64, input_shape= (x.shape[1],), activation=act3))\n",
    "    model.add(Dense(1, activation='sigmoid'))\n",
    "    model.compile(loss=\"binary_crossentropy\", optimizer=opt, metrics = [\"accuracy\",\"binary_accuracy\"])\n",
    "\n",
    "    return model\n",
    "    \n",
    "model = KerasClassifier(model=create_model_CNN, epochs=50, batch_size=64, verbose=0)"
   ]
  },
  {
   "cell_type": "code",
   "execution_count": null,
   "id": "1dba8da4",
   "metadata": {},
   "outputs": [],
   "source": [
    "def create_model_RNN():\n",
    "    model= Sequential()\n",
    "    model.add(LSTM(units=units,return_sequences=True, input_shape=(x.shape[1],x.shape[2])))\n",
    "    model.add(Dropout(rate=rate))\n",
    "    model.add(GRU(units=units,return_sequences=True))\n",
    "    model.add(Dropout(rate=rate))\n",
    "    model.add(LSTM(units=units,return_sequences=True))\n",
    "    model.add(Dropout(rate=rate))\n",
    "    model.add(GRU(units=units,return_sequences=True))\n",
    "    model.add(Dropout(rate=rate))\n",
    "    model.add(LSTM(units=units,return_sequences=True))\n",
    "    model.add(Dropout(rate=rate))\n",
    "    model.add(GRU(units=units,return_sequences=True))\n",
    "    model.add(Dropout(rate=rate))\n",
    "    model.add(Flatten())\n",
    "    model.add(Dense(1, activation='sigmoid'))\n",
    "    model.compile(loss='mean_squared_error', optimizer=opt, metrics=[\"accuracy\",\"binary_accuracy\"])\n",
    "    \n",
    "    return model\n",
    "    \n",
    "model = KerasClassifier(model=create_model_RNN, epochs=50, batch_size=64, verbose=0)"
   ]
  },
  {
   "cell_type": "code",
   "execution_count": null,
   "id": "19de0eab",
   "metadata": {},
   "outputs": [],
   "source": [
    "\n",
    "# model = KerasClassifier(model=create_model, epochs=150, batch_size=10, verbose=0)\n",
    "# evaluate using 10-fold cross validation\n",
    "kfold = StratifiedKFold(n_splits=10, shuffle=False, random_state=seed)\n",
    "results = cross_val_score(model, x, y, cv=kfold)\n",
    "print(results.mean())"
   ]
  }
 ],
 "metadata": {
  "kernelspec": {
   "display_name": "Python 3.10.8 ('data-science')",
   "language": "python",
   "name": "python3"
  },
  "language_info": {
   "codemirror_mode": {
    "name": "ipython",
    "version": 3
   },
   "file_extension": ".py",
   "mimetype": "text/x-python",
   "name": "python",
   "nbconvert_exporter": "python",
   "pygments_lexer": "ipython3",
   "version": "3.10.8"
  },
  "vscode": {
   "interpreter": {
    "hash": "340cec0db92ed07fca9cca49383aea564775ad956e6f2158b9caf8d2fc8f1931"
   }
  }
 },
 "nbformat": 4,
 "nbformat_minor": 5
}
